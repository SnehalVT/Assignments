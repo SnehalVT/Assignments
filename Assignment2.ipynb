{
  "nbformat": 4,
  "nbformat_minor": 0,
  "metadata": {
    "colab": {
      "name": "Day3.ipynb",
      "provenance": [],
      "collapsed_sections": [],
      "authorship_tag": "ABX9TyMqZ0xYRiOSPLW8qM6Qh22W",
      "include_colab_link": true
    },
    "kernelspec": {
      "name": "python3",
      "display_name": "Python 3"
    }
  },
  "cells": [
    {
      "cell_type": "markdown",
      "metadata": {
        "id": "view-in-github",
        "colab_type": "text"
      },
      "source": [
        "<a href=\"https://colab.research.google.com/github/SnehalVT/Assignments/blob/main/Assignment2.ipynb\" target=\"_parent\"><img src=\"https://colab.research.google.com/assets/colab-badge.svg\" alt=\"Open In Colab\"/></a>"
      ]
    },
    {
      "cell_type": "markdown",
      "metadata": {
        "id": "lNh0GNBkHpFc"
      },
      "source": [
        "**Username and Password**"
      ]
    },
    {
      "cell_type": "code",
      "metadata": {
        "colab": {
          "base_uri": "https://localhost:8080/"
        },
        "id": "6OEnGpVl8Uqp",
        "outputId": "40b99a5a-a42c-4677-bf7c-af5a9c659c71"
      },
      "source": [
        "username='Snehal'\n",
        "password='12345'\n",
        "\n",
        "userpass=input(\"Enter the password: \")\n",
        "\n",
        "if userpass==password:\n",
        "  print(\"Welcome \",username)\n",
        "  print(\"Have a great day!\")\n",
        "else:\n",
        "  print(\"Incorrect password\")"
      ],
      "execution_count": null,
      "outputs": [
        {
          "output_type": "stream",
          "text": [
            "Enter the password: 12345\n",
            "Welcome  Snehal\n",
            "Have a great day!\n"
          ],
          "name": "stdout"
        }
      ]
    },
    {
      "cell_type": "markdown",
      "metadata": {
        "id": "uZ1ph3LwH1Ib"
      },
      "source": [
        "**for loop**"
      ]
    },
    {
      "cell_type": "code",
      "metadata": {
        "colab": {
          "base_uri": "https://localhost:8080/"
        },
        "id": "OcuASpz4Gqeu",
        "outputId": "efabfc29-6651-453a-da26-6246bbeede4f"
      },
      "source": [
        "for i in range(11):\n",
        "  print(i)"
      ],
      "execution_count": null,
      "outputs": [
        {
          "output_type": "stream",
          "text": [
            "0\n",
            "1\n",
            "2\n",
            "3\n",
            "4\n",
            "5\n",
            "6\n",
            "7\n",
            "8\n",
            "9\n",
            "10\n"
          ],
          "name": "stdout"
        }
      ]
    },
    {
      "cell_type": "markdown",
      "metadata": {
        "id": "DLxyACbrH3oP"
      },
      "source": [
        "**for loop with defined range**"
      ]
    },
    {
      "cell_type": "code",
      "metadata": {
        "colab": {
          "base_uri": "https://localhost:8080/"
        },
        "id": "bMK5xAPWG6OM",
        "outputId": "36602f0e-1db9-494f-abed-1ed0b30757c2"
      },
      "source": [
        "for i in range(0,11):\n",
        "  print(i)"
      ],
      "execution_count": null,
      "outputs": [
        {
          "output_type": "stream",
          "text": [
            "0\n",
            "1\n",
            "2\n",
            "3\n",
            "4\n",
            "5\n",
            "6\n",
            "7\n",
            "8\n",
            "9\n",
            "10\n"
          ],
          "name": "stdout"
        }
      ]
    },
    {
      "cell_type": "markdown",
      "metadata": {
        "id": "NUgE_62dH6mA"
      },
      "source": [
        "**for loop with defined range and step value**"
      ]
    },
    {
      "cell_type": "code",
      "metadata": {
        "colab": {
          "base_uri": "https://localhost:8080/"
        },
        "id": "UUn-0OSoHEHj",
        "outputId": "84f55a74-9a4b-4aeb-8b72-1ebfe8c4b81b"
      },
      "source": [
        "for i in range(0,21,2):\n",
        "  print(i)"
      ],
      "execution_count": null,
      "outputs": [
        {
          "output_type": "stream",
          "text": [
            "0\n",
            "2\n",
            "4\n",
            "6\n",
            "8\n",
            "10\n",
            "12\n",
            "14\n",
            "16\n",
            "18\n",
            "20\n"
          ],
          "name": "stdout"
        }
      ]
    },
    {
      "cell_type": "markdown",
      "metadata": {
        "id": "MdP-gk5vKfwI"
      },
      "source": [
        "**Even numbers from a range**"
      ]
    },
    {
      "cell_type": "code",
      "metadata": {
        "colab": {
          "base_uri": "https://localhost:8080/"
        },
        "id": "UqBlvXpKJ2y8",
        "outputId": "be2132fd-7384-4b14-b7be-3873166367e6"
      },
      "source": [
        "print(\"Even numbers in the given range:\")\n",
        "for i in range(0,31):\n",
        "  if i%2==0:\n",
        "    print(i)"
      ],
      "execution_count": null,
      "outputs": [
        {
          "output_type": "stream",
          "text": [
            "Even numbers in the given range:\n",
            "0\n",
            "2\n",
            "4\n",
            "6\n",
            "8\n",
            "10\n",
            "12\n",
            "14\n",
            "16\n",
            "18\n",
            "20\n",
            "22\n",
            "24\n",
            "26\n",
            "28\n",
            "30\n"
          ],
          "name": "stdout"
        }
      ]
    },
    {
      "cell_type": "markdown",
      "metadata": {
        "id": "V4QOpuRJMrHz"
      },
      "source": [
        "**Students list, index and slicing**"
      ]
    },
    {
      "cell_type": "code",
      "metadata": {
        "id": "5xJP5MhpKmGh",
        "colab": {
          "base_uri": "https://localhost:8080/"
        },
        "outputId": "262df350-8a43-4e3d-b787-d0e2e5d9bfa4"
      },
      "source": [
        "students=[\"Sam\",\"Tom\",\"Bob\",\"Tim\"]\n",
        "#students[3]\n",
        "students[0:3]\n",
        "#students[-4]"
      ],
      "execution_count": null,
      "outputs": [
        {
          "output_type": "execute_result",
          "data": {
            "text/plain": [
              "['Sam', 'Tom', 'Bob']"
            ]
          },
          "metadata": {
            "tags": []
          },
          "execution_count": 32
        }
      ]
    },
    {
      "cell_type": "code",
      "metadata": {
        "colab": {
          "base_uri": "https://localhost:8080/"
        },
        "id": "eZnhMV2zMycK",
        "outputId": "d6c805c0-3a9e-48bf-b110-eae564c72258"
      },
      "source": [
        "for i in students:\n",
        "  #print(i)\n",
        "  print(\"Welcome\",i)"
      ],
      "execution_count": null,
      "outputs": [
        {
          "output_type": "stream",
          "text": [
            "Welcome Sam\n",
            "Welcome Tom\n",
            "Welcome Bob\n",
            "Welcome Tim\n"
          ],
          "name": "stdout"
        }
      ]
    },
    {
      "cell_type": "code",
      "metadata": {
        "colab": {
          "base_uri": "https://localhost:8080/"
        },
        "id": "FMQ45L6XPKkI",
        "outputId": "f5e0a1ab-d65f-45c4-d37f-21d2c3ed38c3"
      },
      "source": [
        "for i in students:\n",
        "  print (i)\n",
        "  if i=='Bob':\n",
        "    break"
      ],
      "execution_count": null,
      "outputs": [
        {
          "output_type": "stream",
          "text": [
            "Sam\n",
            "Tom\n",
            "Bob\n"
          ],
          "name": "stdout"
        }
      ]
    },
    {
      "cell_type": "markdown",
      "metadata": {
        "id": "VY80p8gPQgWS"
      },
      "source": [
        "**Dictionary**"
      ]
    },
    {
      "cell_type": "code",
      "metadata": {
        "colab": {
          "base_uri": "https://localhost:8080/"
        },
        "id": "waiRt24JQjZb",
        "outputId": "25946c1e-b328-4dd1-80e9-2ec964b04bd2"
      },
      "source": [
        "dict={\"Tom\":90,\"Bob\":91,\"Sam\":33,\"Tim\":50}\n",
        "\n",
        "dict[\"Tom\"]"
      ],
      "execution_count": null,
      "outputs": [
        {
          "output_type": "execute_result",
          "data": {
            "text/plain": [
              "90"
            ]
          },
          "metadata": {
            "tags": []
          },
          "execution_count": 51
        }
      ]
    },
    {
      "cell_type": "markdown",
      "metadata": {
        "id": "amkZzbwO4wH1"
      },
      "source": [
        "**Day 3 Assignment**"
      ]
    },
    {
      "cell_type": "code",
      "metadata": {
        "colab": {
          "base_uri": "https://localhost:8080/"
        },
        "id": "s_sy3YMECIIh",
        "outputId": "345c3878-d55b-49bc-f091-7bcac04f6ac1"
      },
      "source": [
        "# Using if and else if for grading based on the user input\n",
        "\n",
        "mark=int(input(\"Enter the mark: \"))\n",
        "\n",
        "if mark>=90:\n",
        "  print(\"Grade: A\")\n",
        "elif mark>=80:\n",
        "  print(\"Grade: B\")\n",
        "elif mark>=70:\n",
        "  print(\"Grade: C\")\n",
        "elif mark>=60:\n",
        "  print(\"Grade: D\")\n",
        "elif mark>=50:\n",
        "  print(\"Grade: E\")\n",
        "else:\n",
        "  print(\"FAIL\")\n"
      ],
      "execution_count": null,
      "outputs": [
        {
          "output_type": "stream",
          "text": [
            "Enter the mark: 49\n",
            "FAIL\n"
          ],
          "name": "stdout"
        }
      ]
    },
    {
      "cell_type": "code",
      "metadata": {
        "colab": {
          "base_uri": "https://localhost:8080/"
        },
        "id": "xOjST4jy9R7F",
        "outputId": "532d8228-c875-45ce-c661-ff842332e2b6"
      },
      "source": [
        "# Extend the username password block to support OTP verification\n",
        "\n",
        "username='Snehal'\n",
        "password='12345'\n",
        "otp=\"2020\"\n",
        "\n",
        "userName=input(\"Enter username: \")\n",
        "userpass=input(\"Enter the password: \")\n",
        "OTP=input(\"Enter OTP: \")\n",
        "\n",
        "if username==userName:\n",
        "  if userpass==password:\n",
        "    if otp==OTP:\n",
        "      print(\"Welcome \",username)\n",
        "      print(\"Have a great day!\")\n",
        "    else:\n",
        "      print(\"Incorrect OTP\")\n",
        "  else:\n",
        "    print(\"Incorrect password\")\n",
        "else:\n",
        "  print(\"Username does not exist...\")"
      ],
      "execution_count": null,
      "outputs": [
        {
          "output_type": "stream",
          "text": [
            "Enter username: Snehal\n",
            "Enter the password: 12345\n",
            "Enter OTP: 2000\n",
            "Incorrect OTP\n"
          ],
          "name": "stdout"
        }
      ]
    },
    {
      "cell_type": "code",
      "metadata": {
        "colab": {
          "base_uri": "https://localhost:8080/"
        },
        "id": "jwFz5CJH4zza",
        "outputId": "a8a837d8-0738-431e-8e04-c8d9a7b9a0a9"
      },
      "source": [
        "# in a list of marks - print only failed marks - below 60 (Hint : use for to iterate)\n",
        "\n",
        "dict={\"Tom\":90,\"Bob\":91,\"Sam\":33,\"Tim\":50}\n",
        "for name,mark in dict.items():\n",
        "  if mark<60:\n",
        "    print(name,'failed.')"
      ],
      "execution_count": null,
      "outputs": [
        {
          "output_type": "stream",
          "text": [
            "Sam failed.\n",
            "Tim failed.\n"
          ],
          "name": "stdout"
        }
      ]
    }
  ]
}
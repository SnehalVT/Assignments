{
  "nbformat": 4,
  "nbformat_minor": 0,
  "metadata": {
    "colab": {
      "name": "Day2.ipynb",
      "provenance": [],
      "collapsed_sections": [],
      "authorship_tag": "ABX9TyOTRHFh7vXW34lDLrBIB0GR",
      "include_colab_link": true
    },
    "kernelspec": {
      "name": "python3",
      "display_name": "Python 3"
    }
  },
  "cells": [
    {
      "cell_type": "markdown",
      "metadata": {
        "id": "view-in-github",
        "colab_type": "text"
      },
      "source": [
        "<a href=\"https://colab.research.google.com/github/SnehalVT/Assignments/blob/main/Assignment1.ipynb\" target=\"_parent\"><img src=\"https://colab.research.google.com/assets/colab-badge.svg\" alt=\"Open In Colab\"/></a>"
      ]
    },
    {
      "cell_type": "markdown",
      "metadata": {
        "id": "giN4LZBn-9KA"
      },
      "source": [
        "**Day 1 Assignment**"
      ]
    },
    {
      "cell_type": "markdown",
      "metadata": {
        "id": "m1Maj3J8-APd"
      },
      "source": [
        "*Show all 4 basic operators with different numbers\n",
        "- Get user input and do calculations\n",
        "- use variables to store user inputs and do multiple calculations with same variable name\n",
        "- Get two user inputs and do a calculation between them"
      ]
    },
    {
      "cell_type": "code",
      "metadata": {
        "colab": {
          "base_uri": "https://localhost:8080/"
        },
        "id": "g9z9xMYs8z7b",
        "outputId": "1c02cac3-176b-4cf1-9948-f51e45df11ec"
      },
      "source": [
        "a=5\n",
        "b=10\n",
        "\n",
        "print(\"Sum of these numbers=\",a+b)"
      ],
      "execution_count": null,
      "outputs": [
        {
          "output_type": "stream",
          "text": [
            "Sum of these numbers= 15\n"
          ],
          "name": "stdout"
        }
      ]
    },
    {
      "cell_type": "code",
      "metadata": {
        "colab": {
          "base_uri": "https://localhost:8080/"
        },
        "id": "-_7rjeBZ9QCW",
        "outputId": "cb510ea0-d624-4736-a3bc-0b81b8f22d3f"
      },
      "source": [
        "a=7\n",
        "b=9\n",
        "\n",
        "print(\"Product of these numbers=\",a*b)"
      ],
      "execution_count": null,
      "outputs": [
        {
          "output_type": "stream",
          "text": [
            "Product of these numbers= 63\n"
          ],
          "name": "stdout"
        }
      ]
    },
    {
      "cell_type": "code",
      "metadata": {
        "colab": {
          "base_uri": "https://localhost:8080/"
        },
        "id": "uH14mTQH9YYK",
        "outputId": "7524a8b4-a0cf-4363-8d59-89d3b98c2a69"
      },
      "source": [
        "a=9\n",
        "b=4\n",
        "\n",
        "print(\"Difference of these numbers=\",a-b)"
      ],
      "execution_count": null,
      "outputs": [
        {
          "output_type": "stream",
          "text": [
            "Difference of these numbers= 5\n"
          ],
          "name": "stdout"
        }
      ]
    },
    {
      "cell_type": "code",
      "metadata": {
        "colab": {
          "base_uri": "https://localhost:8080/"
        },
        "id": "cBP5NZeT9fpN",
        "outputId": "1883980d-9ec7-46d3-dc54-d200661db186"
      },
      "source": [
        "a=15\n",
        "b=3\n",
        "\n",
        "print(\"Division of these numbers=\",a/b)"
      ],
      "execution_count": null,
      "outputs": [
        {
          "output_type": "stream",
          "text": [
            "Division of these numbers= 5.0\n"
          ],
          "name": "stdout"
        }
      ]
    },
    {
      "cell_type": "code",
      "metadata": {
        "colab": {
          "base_uri": "https://localhost:8080/"
        },
        "id": "nSarmaKb9Mry",
        "outputId": "e45d7c0f-879e-4e5c-a6d0-747bc6eaf667"
      },
      "source": [
        "a=int(input(\"Enter a number: \"))\n",
        "b=int(input(\"Enter another number: \"))\n",
        "\n",
        "print(\"\\nSum of the numbers= \",a+b)\n",
        "print(\"Product of the numbers= \",a*b)\n",
        "print(\"Difference between the two numbers= \",a-b)\n",
        "print(\"Division of the two numbers= \",a/b)"
      ],
      "execution_count": null,
      "outputs": [
        {
          "output_type": "stream",
          "text": [
            "Enter a number: 50\n",
            "Enter another number: 10\n",
            "\n",
            "Sum of the numbers=  60\n",
            "Product of the numbers=  500\n",
            "Difference between the two numbers=  40\n",
            "Division of the two numbers=  5.0\n"
          ],
          "name": "stdout"
        }
      ]
    },
    {
      "cell_type": "markdown",
      "metadata": {
        "id": "a0IXjKreIaLy"
      },
      "source": [
        "Ignore below if not needed."
      ]
    },
    {
      "cell_type": "code",
      "metadata": {
        "colab": {
          "base_uri": "https://localhost:8080/"
        },
        "id": "tgR8iZSQ-FY7",
        "outputId": "00b1c87b-ed39-4e87-8736-2df07e341c08"
      },
      "source": [
        "a=int(input(\"Enter a number: \"))\n",
        "b=int(input(\"Enter another number: \"))\n",
        "c=int(input(\"\\nOperations: \\n1.Addition\\n2.Multiplication\\n3.Subtraction\\n4.Division\\nEnter your choice: \"))\n",
        "\n",
        "if c==1:\n",
        "  print(\"\\nSum of the numbers= \",a+b)\n",
        "elif c==2:\n",
        "  print(\"\\nProduct of the numbers= \",a*b)\n",
        "elif c==3:\n",
        "  print(\"\\nDifference between the two numbers= \",a-b)\n",
        "elif c==4:\n",
        "  print(\"\\nDivision of the two numbers= \",a/b)\n",
        "else:\n",
        "  print(\"\\nIncorrect operation index\")"
      ],
      "execution_count": null,
      "outputs": [
        {
          "output_type": "stream",
          "text": [
            "Enter a number: 10\n",
            "Enter another number: 5\n",
            "\n",
            "Operations: \n",
            "1.Addition\n",
            "2.Multiplication\n",
            "3.Subtraction\n",
            "4.Division\n",
            "Enter your choice: 2\n",
            "\n",
            "Product of the numbers=  50\n"
          ],
          "name": "stdout"
        }
      ]
    }
  ]
}